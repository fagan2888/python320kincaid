{
 "cells": [
  {
   "cell_type": "markdown",
   "metadata": {},
   "source": [
    "## Why create an environment\n",
    "\n",
    "Environments are a useful tool for creating transferrable scripts in a world where packages are updated. Perhaps you've had the bug that you and a collaborator share a piece of code, and it doesn't run because a line depends on a package version that you're not using in your base... how do you resolve this conflict without having to modify your existing code? Let's walk through an example with matplotlib. \n",
    "\n",
    "What I'm sharing is derived from Conda's webpage on handling environments at this link:\n",
    "https://conda.io/projects/conda/en/latest/user-guide/tasks/manage-environments.html#building-identical-conda-environments"
   ]
  },
  {
   "cell_type": "code",
   "execution_count": 1,
   "metadata": {
    "collapsed": true
   },
   "outputs": [],
   "source": [
    "import matplotlib as plt"
   ]
  },
  {
   "cell_type": "code",
   "execution_count": 2,
   "metadata": {},
   "outputs": [
    {
     "data": {
      "text/plain": [
       "'2.1.2'"
      ]
     },
     "execution_count": 2,
     "metadata": {},
     "output_type": "execute_result"
    }
   ],
   "source": [
    "# Matplotlib currently has two stable versions: 3.0.3 and 2.1.2 \n",
    "# Find out what version you're running\n",
    "\n",
    "plt.__version__\n",
    "\n",
    "# Link to Matplotlib's documentation of the upgrades made in 3.0.3: https://matplotlib.org/users/whats_new.html"
   ]
  },
  {
   "cell_type": "markdown",
   "metadata": {},
   "source": [
    "## If you're running 2.1.2, do this example:"
   ]
  },
  {
   "cell_type": "code",
   "execution_count": 8,
   "metadata": {},
   "outputs": [
    {
     "ename": "AttributeError",
     "evalue": "module 'matplotlib.cm' has no attribute 'twilight'",
     "output_type": "error",
     "traceback": [
      "\u001b[0;31m---------------------------------------------------------------------------\u001b[0m",
      "\u001b[0;31mAttributeError\u001b[0m                            Traceback (most recent call last)",
      "\u001b[0;32m<ipython-input-8-3cdcec050e6b>\u001b[0m in \u001b[0;36m<module>\u001b[0;34m()\u001b[0m\n\u001b[1;32m     14\u001b[0m \u001b[0;34m\u001b[0m\u001b[0m\n\u001b[1;32m     15\u001b[0m \u001b[0mn\u001b[0m \u001b[0;34m=\u001b[0m \u001b[0;36m20\u001b[0m\u001b[0;34m\u001b[0m\u001b[0m\n\u001b[0;32m---> 16\u001b[0;31m \u001b[0mcolors\u001b[0m \u001b[0;34m=\u001b[0m \u001b[0mplt\u001b[0m\u001b[0;34m.\u001b[0m\u001b[0mpylab\u001b[0m\u001b[0;34m.\u001b[0m\u001b[0mcm\u001b[0m\u001b[0;34m.\u001b[0m\u001b[0mtwilight\u001b[0m\u001b[0;34m(\u001b[0m\u001b[0mnp\u001b[0m\u001b[0;34m.\u001b[0m\u001b[0mlinspace\u001b[0m\u001b[0;34m(\u001b[0m\u001b[0;36m0\u001b[0m\u001b[0;34m,\u001b[0m\u001b[0;36m1\u001b[0m\u001b[0;34m,\u001b[0m\u001b[0mn\u001b[0m\u001b[0;34m)\u001b[0m\u001b[0;34m)\u001b[0m\u001b[0;34m\u001b[0m\u001b[0m\n\u001b[0m\u001b[1;32m     17\u001b[0m \u001b[0;34m\u001b[0m\u001b[0m\n\u001b[1;32m     18\u001b[0m \u001b[0;32mfor\u001b[0m \u001b[0mi\u001b[0m \u001b[0;32min\u001b[0m \u001b[0mrange\u001b[0m\u001b[0;34m(\u001b[0m\u001b[0mn\u001b[0m\u001b[0;34m)\u001b[0m\u001b[0;34m:\u001b[0m\u001b[0;34m\u001b[0m\u001b[0m\n",
      "\u001b[0;31mAttributeError\u001b[0m: module 'matplotlib.cm' has no attribute 'twilight'"
     ]
    },
    {
     "data": {
      "image/png": "[encoded data removed]",
      "text/plain": [
       "<matplotlib.figure.Figure at 0x117505c18>"
      ]
     },
     "metadata": {},
     "output_type": "display_data"
    }
   ],
   "source": [
    "# Currently I run version 2.1.2. But version 3.0.3 has this cool new feature: \n",
    "\n",
    "# Cyclic colormaps: Two new colormaps added, one of which is named'twilight'. These start and end on the same color\n",
    "# and are great for data like phase angle that starts and ends in the same position (0 degrees = 360 degrees)\n",
    "\n",
    "import numpy as np\n",
    "import matplotlib.pylab# as pl\n",
    "\n",
    "x = np.linspace(0, 2*np.pi, 64)\n",
    "y = np.cos(x) \n",
    "\n",
    "plt.pylab.figure()\n",
    "plt.pylab.plot(x,y)\n",
    "\n",
    "n = 20\n",
    "colors = plt.pylab.cm.twilight(np.linspace(0,1,n))\n",
    "\n",
    "for i in range(n):\n",
    "    plt.pylab.plot(x, i*y, color=colors[i])\n",
    "    \n",
    "# If you ran this with version 2.1.2, you'll get the error  \"AttributeError: module \n",
    "#'matplotlib.cm' has no attribute 'twilight'\" since twilight doesn't exist in version 2.1.2\n",
    "\n",
    "# Try running this code with a different colormap, like jet"
   ]
  },
  {
   "cell_type": "markdown",
   "metadata": {},
   "source": [
    "## If you're running 3.0.3 do this example:"
   ]
  },
  {
   "cell_type": "code",
   "execution_count": null,
   "metadata": {
    "collapsed": true
   },
   "outputs": [],
   "source": []
  },
  {
   "cell_type": "markdown",
   "metadata": {},
   "source": [
    "# To resolve you're problem, let's create a python environment that has the version of matplotlib that you're not already using. \n",
    "\n",
    "## First, check out what environments you have on your machine by typing the following into your shell:\n",
    "conda info --envs\n",
    "\n",
    "You may have multiple environments, or only one. Notice that you have one which is called your base. This is the environment that you will default to, and from which other environments derive their properties unless you specify otherwise. \n",
    "\n",
    "As an example, my base environment runs Python 2, but one of my environments runs Python 3. \n",
    "\n",
    "## Create a new environment with shell\n",
    "You can do this multiple ways. One way is to create a .yml file -- this is readily shared between users. Another is to manually prescripe in your shell. Let's try both, keeping in mind that you can always delete these test environments when you're done. \n",
    "\n",
    "If you just want to create an environment that derives properties from the base: \n",
    "\n",
    "In shell type: conda create --name myenv\n",
    "* note that myenv is just a name you call it -- I used test\n",
    "\n",
    "If you want to create an environment that uses a specific version of Python and a specific package version:\n",
    "\n",
    "conda create -n myenv python=3.6 matplotlib=3.0.3\n",
    "\n",
    "You'll be asked if you're okay with where this environment is being placed -- you'll want it within anaconda/envs\n",
    "\n",
    "Note version numbers aren't required.\n",
    "\n",
    "## Did you just get the error that this packages aren't avialable in your current channels? \n",
    "matplotlib can be accessed through conda forge. You can add conda-forge as a source from which to access packages.\n",
    "Note that in the future this is a channel that Python will use to look for new packages. \n",
    "\n",
    "Shell prompt: \n",
    "config --append channels conda-forge\n",
    "\n",
    "Try to create your environment again. Likely you'll download and install some pieces to do this. \n",
    "\n"
   ]
  },
  {
   "cell_type": "markdown",
   "metadata": {},
   "source": [
    "## Create a new environment from a .yml file\n",
    "\n",
    "1) Open up a text editor like Atom. \n",
    "    In a new file you'll put this information in:\n",
    "\n",
    "    name of the environment test_yml\n",
    "    channels from which to look for packages\n",
    "    dependencies (the packages and versions that you depend on)\n",
    "\n",
    "    The formatting is finicky, so see the .yml file I've attched. Save yours as a .yml. Try adding your other favorite package dependency!\n",
    "\n",
    "2) To create the enviornment from the information in the yml file use the shell prompt: conda env create -f filepath/environment.yml\n"
   ]
  },
  {
   "cell_type": "code",
   "execution_count": null,
   "metadata": {
    "collapsed": true
   },
   "outputs": [],
   "source": [
    "# Now you'll want to try running the code that you couldn't with your version of matplotlib earlier.\n",
    "# Go to open up a new jupyter notebook"
   ]
  },
  {
   "cell_type": "markdown",
   "metadata": {},
   "source": [
    "## Bash lines to know: \n",
    "\n",
    "View environments: \n",
    "conda info --envs\n",
    "\n",
    "Create an environment: \n",
    "conda create --name myenv \n",
    "\n",
    "Activate/deactivate an environment:\n",
    "First check what version of conda you're running: conda --version\n",
    "    - if you're running on a Mac/Linux OS with conda pre 4.6 then you'll use 'source activate/deactivate' rather than activate\n",
    "    - else use just 'activate' or 'deactivate'\n",
    "    \n",
    "Delete an environment:\n",
    "conda env remove --name myenv\n",
    "    \n",
    "    \n"
   ]
  },
  {
   "cell_type": "code",
   "execution_count": null,
   "metadata": {
    "collapsed": true
   },
   "outputs": [],
   "source": []
  }
 ],
 "metadata": {
  "kernelspec": {
   "display_name": "py36",
   "language": "python",
   "name": "py36"
  },
  "language_info": {
   "codemirror_mode": {
    "name": "ipython",
    "version": 3
   },
   "file_extension": ".py",
   "mimetype": "text/x-python",
   "name": "python",
   "nbconvert_exporter": "python",
   "pygments_lexer": "ipython3",
   "version": "3.6.4"
  }
 },
 "nbformat": 4,
 "nbformat_minor": 2
}
