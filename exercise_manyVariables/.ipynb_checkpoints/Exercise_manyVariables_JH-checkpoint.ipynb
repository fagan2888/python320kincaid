{
 "cells": [
  {
   "cell_type": "markdown",
   "metadata": {},
   "source": [
    "## Exercise with many variables\n",
    "Hi all, this exercise is unsolved, I haven't figured out how to clean up this, so I am very open to all sort of improvements. \n",
    "\n",
    "_The math still constains an error, leading to some unphysical behavior, please forgive me if your pendulum goes crazy._\n",
    "\n",
    "This exercise is an example of a script I regularly deal with. It has many variables that I define in the beginning. In this case they are:\n",
    "    - time parameters for the simulation\n",
    "    - animation parameter\n",
    "    - simulation parameters\n",
    "    - initial conditions\n",
    "    - plotting parameters \n",
    "\n",
    "I would like to create a way to swap out configurations quickly. Several ideas I had are in a cell named CONFIG OPTIONS.\n",
    "The cells has 3 options for creating configurations, using: \n",
    "    - dictionary\n",
    "    - class\n",
    "    - config.ini file\n",
    "    \n",
    "    \n",
    "# Goal \n",
    "Create 2 different pendulum configurations (preferably changing many parameters), that can be interchanged very easily. \n",
    "For example, a pendulum with 5 bulbs on the moon (n=5, g= -1.6) and a pendulum with 3 bulbs on earth (n=3, g = -10). \n",
    "\n",
    "Also feel free to play around with the animation, or any other part of the code that you find interesting or could use improvement. \n",
    "\n",
    "\n",
    "# Note on the animation\n",
    "In order for the animation to work, you will need ffmpeg. \n",
    "You can install it with: \n",
    "```conda install -c menpo ffmpeg```\n",
    "\n",
    "\n",
    "You can also use one of these tutorials: \n",
    "\n",
    "https://github.com/adaptlearning/adapt_authoring/wiki/Installing-FFmpeg \n",
    "\n",
    "https://www.wikihow.com/Install-FFmpeg-on-Windows\n"
   ]
  },
  {
   "cell_type": "code",
   "execution_count": 22,
   "metadata": {},
   "outputs": [],
   "source": [
    "import numpy as np\n",
    "import matplotlib.pyplot as plt \n",
    "from IPython.display import HTML\n",
    "from matplotlib import animation, rc\n",
    "from scipy.integrate import odeint  \n",
    "import configparser\n",
    "%matplotlib inline"
   ]
  },
  {
   "cell_type": "code",
   "execution_count": 16,
   "metadata": {},
   "outputs": [],
   "source": [
    "# time parameters\n",
    "dt = 0.005; \n",
    "tLast = 2; \n",
    "n_frames = int( tLast/dt )\n",
    "tInt = np.arange(0,tLast+dt, dt) ;\n",
    "\n",
    "# animation parameters\n",
    "fps = 100 \n",
    "\n",
    "# simulation parameters\n",
    "n = 3 # number of pendulums \n",
    "g = -10  # gravitational constant [m/s^2]\n",
    "b = 0.01  # damping term \n",
    "m = 1* np.ones((n ,1) ) / n  # mass of all the pendulum bulbs\n",
    "l_vec = np.ones((n ,1) ) /n  # length of pendulum beams\n",
    "\n",
    "# initial conditions (random position currently) \n",
    "y0 = np.zeros( n*2) \n",
    "y0[:n] = np.random.rand( n)*np.pi   \n",
    "\n",
    "# plotting parameters\n",
    "fig_h = 7\n",
    "fig_v = 4\n",
    "window = 1.1  # sets window size \n",
    "dot_scale = 500"
   ]
  },
  {
   "cell_type": "markdown",
   "metadata": {},
   "source": [
    "## CONFIG OPTIONS"
   ]
  },
  {
   "cell_type": "code",
   "execution_count": 17,
   "metadata": {},
   "outputs": [
    {
     "name": "stdout",
     "output_type": "stream",
     "text": [
      "variables obtained from PEND_DICT: 3 -10 [ 0.          0.          0.          3.14159265  3.14159265  3.14159265]\n",
      "variables obtained from PEND_CLASS: 3 -10 [ 0.          0.          0.          3.14159265  3.14159265  3.14159265]\n",
      "variables obtained from config.ini: 3 -10 [ 0.          0.          0.          3.14159265  3.14159265  3.14159265]\n"
     ]
    }
   ],
   "source": [
    "# -----Options of storing parameters: a dictionary--------\n",
    "PEND_DICT = {\n",
    "    'pendulum_condition': 'inverted start',\n",
    "    'n'  :3,\n",
    "    'g': -10,\n",
    "    'y0': np.hstack( ( np.zeros(n), np.ones(n)*np.pi )  )\n",
    "}\n",
    "print('variables obtained from PEND_DICT:',PEND_DICT['n'], PEND_DICT['g'],PEND_DICT['y0'])\n",
    "\n",
    "\n",
    "# -----Options of storing parameters: a class--------\n",
    "class PEND_CLASS:\n",
    "    pendulum_condition ='inverted start'\n",
    "    n =3\n",
    "    g = -10 \n",
    "    y0 = np.zeros(n*2)\n",
    "    y0[n:n*2] = np.pi\n",
    "print('variables obtained from PEND_CLASS:',PEND_CLASS.n,PEND_CLASS.g, PEND_CLASS.y0 ) \n",
    "\n",
    "\n",
    "# -----Options of storing parameters: a config file--------\n",
    "# this uses the 'config.ini' file\n",
    "config = configparser.ConfigParser()\n",
    "config.read('config.ini')\n",
    "\n",
    "gc = config.get('INVERTED', 'g')\n",
    "exec(config.get('INVERTED',  'y0c'  ))\n",
    "nc = config.get('INVERTED', 'n')\n",
    "print('variables obtained from config.ini:', nc,gc, y0c )"
   ]
  },
  {
   "cell_type": "code",
   "execution_count": 18,
   "metadata": {},
   "outputs": [],
   "source": [
    "# define pendulum dynamics \n",
    "def pendulum_dynamics( y,t): \n",
    "    dydt =  np.zeros([2*n])  \n",
    "    M_ij = np.zeros((n,n) )\n",
    "    C_ij = np.zeros((n,n) )\n",
    "    S_ij = np.zeros((n,n) ) \n",
    "    theta = y[ 0:n]  \n",
    "    for i in range(n ):\n",
    "        for j in range(n ): \n",
    "            m_max = np.max([i,j])  \n",
    "            M_ij[i,j] = np.sum(m[m_max:])\n",
    "            S_ij[i,j] = np.sin(theta[ i]-theta[ j])\n",
    "            C_ij[i,j] = np.cos(theta[ i]-theta[ j])\n",
    "    L = np.multiply(l_vec,l_vec.transpose()) \n",
    "    M = np.multiply(M_ij, np.multiply( L,C_ij)  )  \n",
    "    C = np.multiply(M_ij, np.multiply( L,S_ij)  )  \n",
    "    np.fill_diagonal(C,0)\n",
    "    K = np.multiply( np.diag(l_vec)*g , M_ij) \n",
    "    D = np.diag(np.ones(n))*b \n",
    "    dydt[0:n] = y[n:n*2]\n",
    "    dydt[ n:n*2] = - np.dot(np.linalg.inv(M) , (    np.dot(C,y[ n:n*2]**2) +      # \n",
    "                                                np.dot( K, np.sin( y[0:n]) ) +   # \n",
    "                                                np.dot(D,y[n:n*2])  )    ) \n",
    "    return dydt\n",
    "\n",
    "# for animation: initialization function to plot the background of each frame\n",
    "def init():\n",
    "    line.set_data([], [])\n",
    "    dots.set_offsets( []  )\n",
    "    return (line,dots, )\n",
    "\n",
    "# for animation: update line and scatter plots\n",
    "def animate(i): \n",
    "    x_vec = np.multiply( l_vec[:,0], np.sin(y[i,:n]))\n",
    "    y_vec = np.multiply( l_vec[:,0], np.cos(y[i,:n]))  \n",
    "    x_pos = np.array( np.hstack([0, np.cumsum(x_vec)]) )\n",
    "    y_pos = np.array( np.hstack([0, np.cumsum(y_vec)]))\n",
    "    line.set_data( x_pos,y_pos ) \n",
    "    dots.set_offsets( np.vstack( (x_pos,y_pos )  ).transpose().tolist()  )  \n",
    "    return (line,dots, ) "
   ]
  },
  {
   "cell_type": "code",
   "execution_count": 19,
   "metadata": {},
   "outputs": [],
   "source": [
    "# simulate pendulum dynamics \n",
    "y = odeint(pendulum_dynamics, y0, tInt) \n"
   ]
  },
  {
   "cell_type": "code",
   "execution_count": 25,
   "metadata": {},
   "outputs": [
    {
     "data": {
      "image/png": "[encoded data removed]",
      "text/plain": [
       "<Figure size 504x288 with 1 Axes>"
      ]
     },
     "metadata": {},
     "output_type": "display_data"
    }
   ],
   "source": [
    "# Create figure and axis\n",
    "fig = plt.figure(figsize=(fig_h,fig_v))\n",
    "ax = fig.add_subplot(1, 1, 1)\n",
    "\n",
    "# find vector of every pendulum, cumulative sum gives the position of every pendulum point \n",
    "x_vec = np.multiply( l_vec[:,0], np.sin(y0[:n]))\n",
    "y_vec = np.multiply( l_vec[:,0], np.cos(y0[:n])) \n",
    "x_pos = np.array( np.hstack([0, np.cumsum(x_vec)]) )\n",
    "y_pos = np.array( np.hstack([0, np.cumsum(y_vec)]))\n",
    "   \n",
    "# plot the first window, we will overwrite line and dots \n",
    "plt.plot([-1,1],[0,0],'k', zorder = -3) \n",
    "line, = plt.plot( x_pos, y_pos ) \n",
    "dots  = plt.scatter( x_pos ,y_pos,s=m*dot_scale )\n",
    "\n",
    "# set plot parameters \n",
    "ax.set_xlim( ( np.array([-1.,1.])*window  ))\n",
    "ax.set_ylim( ( np.array([-1.,1.])*window ))\n",
    "ax.set_aspect('equal')\n",
    "plt.tick_params(\n",
    "    axis='both',          # changes apply to the x-axis\n",
    "    which='both',      # both major and minor ticks are affected\n",
    "    bottom=False,      # ticks along the bottom edge are off\n",
    "    top=False,         # ticks along the top edge are off\n",
    "    left=False,      # ticks along the left edge are off\n",
    "    right=False,         # ticks along the right edge are off\n",
    "    labelbottom=False,         # ticks along the top edge are off\n",
    "    labelleft=False) # labels along the bottom edge are off"
   ]
  },
  {
   "cell_type": "code",
   "execution_count": 26,
   "metadata": {},
   "outputs": [
    {
     "ename": "RuntimeError",
     "evalue": "Requested MovieWriter (ffmpeg) not available",
     "output_type": "error",
     "traceback": [
      "\u001b[0;31m---------------------------------------------------------------------------\u001b[0m",
      "\u001b[0;31mKeyError\u001b[0m                                  Traceback (most recent call last)",
      "\u001b[0;32m/Users/etismeimet/anaconda/lib/python3.6/site-packages/matplotlib/animation.py\u001b[0m in \u001b[0;36m__getitem__\u001b[0;34m(self, name)\u001b[0m\n\u001b[1;32m    160\u001b[0m         \u001b[0;32mtry\u001b[0m\u001b[0;34m:\u001b[0m\u001b[0;34m\u001b[0m\u001b[0;34m\u001b[0m\u001b[0m\n\u001b[0;32m--> 161\u001b[0;31m             \u001b[0;32mreturn\u001b[0m \u001b[0mself\u001b[0m\u001b[0;34m.\u001b[0m\u001b[0mavail\u001b[0m\u001b[0;34m[\u001b[0m\u001b[0mname\u001b[0m\u001b[0;34m]\u001b[0m\u001b[0;34m\u001b[0m\u001b[0;34m\u001b[0m\u001b[0m\n\u001b[0m\u001b[1;32m    162\u001b[0m         \u001b[0;32mexcept\u001b[0m \u001b[0mKeyError\u001b[0m\u001b[0;34m:\u001b[0m\u001b[0;34m\u001b[0m\u001b[0;34m\u001b[0m\u001b[0m\n",
      "\u001b[0;31mKeyError\u001b[0m: 'ffmpeg'",
      "\nDuring handling of the above exception, another exception occurred:\n",
      "\u001b[0;31mRuntimeError\u001b[0m                              Traceback (most recent call last)",
      "\u001b[0;32m<ipython-input-26-2ec04fb28b11>\u001b[0m in \u001b[0;36m<module>\u001b[0;34m()\u001b[0m\n\u001b[1;32m      2\u001b[0m anim = animation.FuncAnimation(fig, animate , init_func=init,\n\u001b[1;32m      3\u001b[0m                                frames=n_frames ,interval= int( 1000/fps ), blit=True)\n\u001b[0;32m----> 4\u001b[0;31m \u001b[0mHTML\u001b[0m\u001b[0;34m(\u001b[0m\u001b[0manim\u001b[0m\u001b[0;34m.\u001b[0m\u001b[0mto_html5_video\u001b[0m\u001b[0;34m(\u001b[0m\u001b[0;34m)\u001b[0m\u001b[0;34m)\u001b[0m\u001b[0;34m\u001b[0m\u001b[0;34m\u001b[0m\u001b[0m\n\u001b[0m",
      "\u001b[0;32m/Users/etismeimet/anaconda/lib/python3.6/site-packages/matplotlib/animation.py\u001b[0m in \u001b[0;36mto_html5_video\u001b[0;34m(self, embed_limit)\u001b[0m\n\u001b[1;32m   1337\u001b[0m                 \u001b[0;31m# We create a writer manually so that we can get the\u001b[0m\u001b[0;34m\u001b[0m\u001b[0;34m\u001b[0m\u001b[0;34m\u001b[0m\u001b[0m\n\u001b[1;32m   1338\u001b[0m                 \u001b[0;31m# appropriate size for the tag\u001b[0m\u001b[0;34m\u001b[0m\u001b[0;34m\u001b[0m\u001b[0;34m\u001b[0m\u001b[0m\n\u001b[0;32m-> 1339\u001b[0;31m                 \u001b[0mWriter\u001b[0m \u001b[0;34m=\u001b[0m \u001b[0mwriters\u001b[0m\u001b[0;34m[\u001b[0m\u001b[0mrcParams\u001b[0m\u001b[0;34m[\u001b[0m\u001b[0;34m'animation.writer'\u001b[0m\u001b[0;34m]\u001b[0m\u001b[0;34m]\u001b[0m\u001b[0;34m\u001b[0m\u001b[0;34m\u001b[0m\u001b[0m\n\u001b[0m\u001b[1;32m   1340\u001b[0m                 writer = Writer(codec='h264',\n\u001b[1;32m   1341\u001b[0m                                 \u001b[0mbitrate\u001b[0m\u001b[0;34m=\u001b[0m\u001b[0mrcParams\u001b[0m\u001b[0;34m[\u001b[0m\u001b[0;34m'animation.bitrate'\u001b[0m\u001b[0;34m]\u001b[0m\u001b[0;34m,\u001b[0m\u001b[0;34m\u001b[0m\u001b[0;34m\u001b[0m\u001b[0m\n",
      "\u001b[0;32m/Users/etismeimet/anaconda/lib/python3.6/site-packages/matplotlib/animation.py\u001b[0m in \u001b[0;36m__getitem__\u001b[0;34m(self, name)\u001b[0m\n\u001b[1;32m    162\u001b[0m         \u001b[0;32mexcept\u001b[0m \u001b[0mKeyError\u001b[0m\u001b[0;34m:\u001b[0m\u001b[0;34m\u001b[0m\u001b[0;34m\u001b[0m\u001b[0m\n\u001b[1;32m    163\u001b[0m             raise RuntimeError(\n\u001b[0;32m--> 164\u001b[0;31m                 'Requested MovieWriter ({}) not available'.format(name))\n\u001b[0m\u001b[1;32m    165\u001b[0m \u001b[0;34m\u001b[0m\u001b[0m\n\u001b[1;32m    166\u001b[0m \u001b[0;34m\u001b[0m\u001b[0m\n",
      "\u001b[0;31mRuntimeError\u001b[0m: Requested MovieWriter (ffmpeg) not available"
     ]
    }
   ],
   "source": [
    "#  call the animator.\n",
    "anim = animation.FuncAnimation(fig, animate , init_func=init,\n",
    "                               frames=n_frames ,interval= int( 1000/fps ), blit=True)\n",
    "HTML(anim.to_html5_video())"
   ]
  },
  {
   "cell_type": "code",
   "execution_count": null,
   "metadata": {},
   "outputs": [],
   "source": []
  },
  {
   "cell_type": "code",
   "execution_count": null,
   "metadata": {},
   "outputs": [],
   "source": []
  }
 ],
 "metadata": {
  "kernelspec": {
   "display_name": "Python 3",
   "language": "python",
   "name": "python3"
  },
  "language_info": {
   "codemirror_mode": {
    "name": "ipython",
    "version": 3
   },
   "file_extension": ".py",
   "mimetype": "text/x-python",
   "name": "python",
   "nbconvert_exporter": "python",
   "pygments_lexer": "ipython3",
   "version": "3.6.8"
  }
 },
 "nbformat": 4,
 "nbformat_minor": 2
}
