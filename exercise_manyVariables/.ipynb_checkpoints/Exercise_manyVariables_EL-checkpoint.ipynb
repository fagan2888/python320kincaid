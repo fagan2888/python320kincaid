{
 "cells": [
  {
   "cell_type": "markdown",
   "metadata": {},
   "source": [
    "## Goal: Easily swap out scenarios\n",
    "- I put vector parameters into functions so they can easily be swapped out and accessed\n",
    "- Groups of functions are stored in separate python files that can be imported together as a group\n",
    "- Constant parameters can be changed directly from the Jupyter Notebook "
   ]
  },
  {
   "cell_type": "code",
   "execution_count": null,
   "metadata": {},
   "outputs": [],
   "source": [
    "import numpy as np\n",
    "import EL_functions as E"
   ]
  },
  {
   "cell_type": "code",
   "execution_count": null,
   "metadata": {},
   "outputs": [],
   "source": [
    "# TIME PARAMETERS\n",
    "dt = 0.005\n",
    "tLast = 2 \n",
    "n_frames = int(tLast/dt)\n",
    "tInt = np.arange(0, tLast+dt, dt)\n",
    "\n",
    "# SIMULATION PARAMETERS\n",
    "n = 5 # number of pendulums \n",
    "g = -10  # gravitational constant [m/s^2]\n",
    "b = 0.01  # damping term \n",
    "\n",
    "# PLOTTING PARAMETERS\n",
    "figsize = (4, 4)"
   ]
  },
  {
   "cell_type": "code",
   "execution_count": null,
   "metadata": {},
   "outputs": [],
   "source": [
    "args = [# Default configurations for the earth and the moon\n",
    "    [E.pendulum, 5, tInt, E.len_v, E.y0_v, E.m_v, -1.6, b, \n",
    "                 figsize, E.wind, n_frames, \"5 on moon\"],\n",
    "    [E.pendulum, 3, tInt, E.len_v, E.y0_v, E.m_v,  -10, b, \n",
    "                 figsize, E.wind, n_frames, \"3 on earth\"]]\n",
    "\n",
    "for arg in args:\n",
    "    E.solve_and_plot(*arg)"
   ]
  },
  {
   "cell_type": "code",
   "execution_count": null,
   "metadata": {},
   "outputs": [],
   "source": [
    "# I created new functions for length and mass in EL_functions_2.py\n",
    "# Now I can import them from their own configuration file.\n",
    "\n",
    "import EL_functions_2 as E2\n",
    "\n",
    "args = [# Default configurations with length and mass changed\n",
    "    [E.pendulum, 5, tInt, E2.len_v, E.y0_v, E2.m_v, -1.6, b, \n",
    "                 figsize, E.wind, n_frames, \"5 on moon\"],\n",
    "    [E.pendulum, 3, tInt, E2.len_v, E.y0_v, E2.m_v,  -10, b, \n",
    "                 figsize, E.wind, n_frames, \"3 on earth\"]]\n",
    "\n",
    "for arg in args:\n",
    "    E.solve_and_plot(*arg)"
   ]
  },
  {
   "cell_type": "code",
   "execution_count": null,
   "metadata": {},
   "outputs": [],
   "source": []
  }
 ],
 "metadata": {
  "kernelspec": {
   "display_name": "Python 3",
   "language": "python",
   "name": "python3"
  },
  "language_info": {
   "codemirror_mode": {
    "name": "ipython",
    "version": 3
   },
   "file_extension": ".py",
   "mimetype": "text/x-python",
   "name": "python",
   "nbconvert_exporter": "python",
   "pygments_lexer": "ipython3",
   "version": "3.6.8"
  }
 },
 "nbformat": 4,
 "nbformat_minor": 2
}
