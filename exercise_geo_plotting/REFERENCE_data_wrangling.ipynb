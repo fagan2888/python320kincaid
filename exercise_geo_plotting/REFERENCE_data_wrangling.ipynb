{
 "cells": [
  {
   "cell_type": "code",
   "execution_count": 1,
   "metadata": {},
   "outputs": [],
   "source": [
    "import numpy as np\n",
    "import pandas as pd\n",
    "import glob\n",
    "from math import radians, cos, sin, asin, sqrt, atan2"
   ]
  },
  {
   "cell_type": "code",
   "execution_count": null,
   "metadata": {},
   "outputs": [],
   "source": [
    "# CREATE LIMITED DATASET WITH REDUCED TIMESTAMPS FOR PYTHON CLUB\n",
    "\n",
    "filenames = [\"precip_all\", \"temp_all\", \"rh_all\", \"solrad_all\"]\n",
    "\n",
    "for fname in filenames: \n",
    "    df = pd.read_csv(\"./data/\"+fname+\".csv\", index_col=0)\n",
    "    df.index = pd.to_datetime(df.index)\n",
    "    df = df[df.index.hour == 0] # Limit data to just midnight\n",
    "    df = df[df.index.day == 1] # Limit data to the 1st day of each month\n",
    "    df.to_csv(\"./data/\"+fname+\"_limited.csv\")"
   ]
  },
  {
   "cell_type": "code",
   "execution_count": 2,
   "metadata": {},
   "outputs": [],
   "source": [
    "# MELT ALL LIMITED DATASETS\n",
    "\n",
    "for key in [\"precip\", \"temp\", \"rh\", \"solrad\"]:\n",
    "    df = pd.read_csv(\"./data/\"+key+\"_all_limited.csv\", index_col=0)\n",
    "    df.index = pd.to_datetime(df.index)\n",
    "    df[\"time\"] = df.index\n",
    "    df.head()\n",
    "    v = [x for x in df.columns.values if x != \"time\"]\n",
    "    df = df.melt(id_vars=[\"time\"], value_vars=v, value_name=key, var_name=\"site\")\n",
    "    df.to_csv(\"./data/\"+key+\"_melt.csv\", index=False)"
   ]
  },
  {
   "cell_type": "code",
   "execution_count": 3,
   "metadata": {},
   "outputs": [
    {
     "name": "stdout",
     "output_type": "stream",
     "text": [
      "85320 85320 85320 85320\n",
      "85320\n"
     ]
    }
   ],
   "source": [
    "# MERGE ALL DATASETS TOGETHER\n",
    "\n",
    "p_df = pd.read_csv(\"./data/precip_melt.csv\")\n",
    "r_df = pd.read_csv(\"./data/rh_melt.csv\")\n",
    "s_df = pd.read_csv(\"./data/solrad_melt.csv\")\n",
    "t_df = pd.read_csv(\"./data/temp_melt.csv\")\n",
    "print(len(p_df), len(r_df), len(s_df), len(t_df))\n",
    "\n",
    "m_df = pd.merge(p_df, r_df, on=[\"time\", \"site\"])\n",
    "m_df = pd.merge(m_df, s_df, on=[\"time\", \"site\"])\n",
    "m_df = pd.merge(m_df, t_df, on=[\"time\", \"site\"])\n",
    "print(len(m_df)) # (No missing values so none were dropped)\n",
    "\n",
    "m_df.to_csv(\"./data/merged_all_data.csv\", index=None)"
   ]
  },
  {
   "cell_type": "code",
   "execution_count": 4,
   "metadata": {},
   "outputs": [],
   "source": [
    "# FUNCTION TO GET VALUES FROM SITE DF INTO MAIN DF\n",
    "\n",
    "site_df = pd.read_csv(\"./data/site_info.csv\")\n",
    "site_df['site'] = site_df['site'].astype(str)\n",
    "    \n",
    "def get_site_loc(site, site_df=site_df):\n",
    "    s = site_df[site_df[\"site\"] == str(site)]\n",
    "    assert len(s) <= 1\n",
    "    if len(s) == 0:\n",
    "        return [np.nan, np.nan, np.nan, np.nan]\n",
    "    else:\n",
    "        lat = s[\"latitude\"].values[0]\n",
    "        lon = s[\"longitude\"].values[0]\n",
    "        c = s[\"city\"].values[0]\n",
    "        s = s[\"state\"].values[0]\n",
    "        return lat, lon, c, s"
   ]
  },
  {
   "cell_type": "code",
   "execution_count": 5,
   "metadata": {},
   "outputs": [
    {
     "data": {
      "text/html": [
       "<div>\n",
       "<style scoped>\n",
       "    .dataframe tbody tr th:only-of-type {\n",
       "        vertical-align: middle;\n",
       "    }\n",
       "\n",
       "    .dataframe tbody tr th {\n",
       "        vertical-align: top;\n",
       "    }\n",
       "\n",
       "    .dataframe thead th {\n",
       "        text-align: right;\n",
       "    }\n",
       "</style>\n",
       "<table border=\"1\" class=\"dataframe\">\n",
       "  <thead>\n",
       "    <tr style=\"text-align: right;\">\n",
       "      <th></th>\n",
       "      <th>time</th>\n",
       "      <th>site</th>\n",
       "      <th>precip</th>\n",
       "      <th>rh</th>\n",
       "      <th>solrad</th>\n",
       "      <th>temp</th>\n",
       "      <th>lat</th>\n",
       "      <th>lon</th>\n",
       "      <th>city</th>\n",
       "      <th>state</th>\n",
       "    </tr>\n",
       "  </thead>\n",
       "  <tbody>\n",
       "    <tr>\n",
       "      <th>0</th>\n",
       "      <td>1961-01-01</td>\n",
       "      <td>3103</td>\n",
       "      <td>NaN</td>\n",
       "      <td>NaN</td>\n",
       "      <td>NaN</td>\n",
       "      <td>NaN</td>\n",
       "      <td>35.08</td>\n",
       "      <td>111.4</td>\n",
       "      <td>FLAGSTAFF</td>\n",
       "      <td>AZ</td>\n",
       "    </tr>\n",
       "    <tr>\n",
       "      <th>1</th>\n",
       "      <td>1961-02-01</td>\n",
       "      <td>3103</td>\n",
       "      <td>NaN</td>\n",
       "      <td>NaN</td>\n",
       "      <td>NaN</td>\n",
       "      <td>NaN</td>\n",
       "      <td>35.08</td>\n",
       "      <td>111.4</td>\n",
       "      <td>FLAGSTAFF</td>\n",
       "      <td>AZ</td>\n",
       "    </tr>\n",
       "    <tr>\n",
       "      <th>2</th>\n",
       "      <td>1961-03-01</td>\n",
       "      <td>3103</td>\n",
       "      <td>NaN</td>\n",
       "      <td>NaN</td>\n",
       "      <td>NaN</td>\n",
       "      <td>NaN</td>\n",
       "      <td>35.08</td>\n",
       "      <td>111.4</td>\n",
       "      <td>FLAGSTAFF</td>\n",
       "      <td>AZ</td>\n",
       "    </tr>\n",
       "    <tr>\n",
       "      <th>3</th>\n",
       "      <td>1961-04-01</td>\n",
       "      <td>3103</td>\n",
       "      <td>NaN</td>\n",
       "      <td>NaN</td>\n",
       "      <td>NaN</td>\n",
       "      <td>NaN</td>\n",
       "      <td>35.08</td>\n",
       "      <td>111.4</td>\n",
       "      <td>FLAGSTAFF</td>\n",
       "      <td>AZ</td>\n",
       "    </tr>\n",
       "    <tr>\n",
       "      <th>4</th>\n",
       "      <td>1961-05-01</td>\n",
       "      <td>3103</td>\n",
       "      <td>NaN</td>\n",
       "      <td>NaN</td>\n",
       "      <td>NaN</td>\n",
       "      <td>NaN</td>\n",
       "      <td>35.08</td>\n",
       "      <td>111.4</td>\n",
       "      <td>FLAGSTAFF</td>\n",
       "      <td>AZ</td>\n",
       "    </tr>\n",
       "  </tbody>\n",
       "</table>\n",
       "</div>"
      ],
      "text/plain": [
       "         time  site  precip  rh  solrad  temp    lat    lon  \\\n",
       "0  1961-01-01  3103     NaN NaN     NaN   NaN  35.08  111.4   \n",
       "1  1961-02-01  3103     NaN NaN     NaN   NaN  35.08  111.4   \n",
       "2  1961-03-01  3103     NaN NaN     NaN   NaN  35.08  111.4   \n",
       "3  1961-04-01  3103     NaN NaN     NaN   NaN  35.08  111.4   \n",
       "4  1961-05-01  3103     NaN NaN     NaN   NaN  35.08  111.4   \n",
       "\n",
       "                     city state  \n",
       "0  FLAGSTAFF                 AZ  \n",
       "1  FLAGSTAFF                 AZ  \n",
       "2  FLAGSTAFF                 AZ  \n",
       "3  FLAGSTAFF                 AZ  \n",
       "4  FLAGSTAFF                 AZ  "
      ]
     },
     "execution_count": 5,
     "metadata": {},
     "output_type": "execute_result"
    }
   ],
   "source": [
    "# ATTACH SITE VALUES TO MAIN DF\n",
    "\n",
    "df = pd.read_csv(\"./data/merged_all_data.csv\")\n",
    "df['lat'], df['lon'], df['city'], df['state'] = zip(*df['site'].map(get_site_loc))\n",
    "df.to_csv(\"./data/final_loc_data.csv\", index=None)\n",
    "df.head()"
   ]
  },
  {
   "cell_type": "code",
   "execution_count": null,
   "metadata": {},
   "outputs": [],
   "source": []
  }
 ],
 "metadata": {
  "kernelspec": {
   "display_name": "Python 3",
   "language": "python",
   "name": "python3"
  },
  "language_info": {
   "codemirror_mode": {
    "name": "ipython",
    "version": 3
   },
   "file_extension": ".py",
   "mimetype": "text/x-python",
   "name": "python",
   "nbconvert_exporter": "python",
   "pygments_lexer": "ipython3",
   "version": "3.6.8"
  }
 },
 "nbformat": 4,
 "nbformat_minor": 2
}
