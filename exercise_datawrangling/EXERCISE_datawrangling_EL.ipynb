{
 "cells": [
  {
   "cell_type": "markdown",
   "metadata": {},
   "source": [
    "## Exercise with Data Wrangling\n",
    "The entire code now runs in **11.8 seconds ± 370 ms** (original code runs in **2 minutes 49 seconds ± 9.62 s** on my PC).\n",
    "\n",
    "### Things I did to make the code faster\n",
    "- Use `read_fwf` instead of `read_csv`.\n",
    "- I got rid of all the `for` loops except for one (`for` loops are slow in Python).  \n",
    "- I check the data for gaps *before* analyzing it and adding it to the master dataframe.\n",
    "- If there are commands that drop a lot of data (for example removing non-growseason times), I run those first so less data is stored in memory."
   ]
  },
  {
   "cell_type": "code",
   "execution_count": 1,
   "metadata": {},
   "outputs": [],
   "source": [
    "import numpy as np\n",
    "import pandas as pd\n",
    "import glob"
   ]
  },
  {
   "cell_type": "code",
   "execution_count": 2,
   "metadata": {
    "scrolled": false
   },
   "outputs": [
    {
     "name": "stdout",
     "output_type": "stream",
     "text": [
      "11.8 s ± 370 ms per loop (mean ± std. dev. of 7 runs, 1 loop each)\n"
     ]
    }
   ],
   "source": [
    "%%timeit\n",
    "\n",
    "fnames = glob.glob(\"./data/*/*\")\n",
    "\n",
    "# list of breakpoints and column names from ISH_Manual.PDF\n",
    "colnames = [\"time\", \"temp\", \"precip\"]\n",
    "colspecs = [(15,27), (87,91), (105, 8193)]\n",
    "\n",
    "crit_rows = 3 # Maximum allowed missing hours\n",
    "growseason = pd.date_range(start='2000-05-01', end='2000-10-31').strftime('%m-%d')\n",
    "\n",
    "df_temp_all = pd.DataFrame(columns=[\"time\"], dtype=int)\n",
    "df_precip_all = pd.DataFrame(columns=[\"time\"], dtype=int)\n",
    "\n",
    "for name in fnames:\n",
    "    # Read in data file\n",
    "    df = pd.read_fwf(name, names=colnames, colspecs=colspecs, header=None, \n",
    "                     encoding=\"latin_1\", dtype={'time':int, 'temp':int, 'precip':str})\n",
    "    \n",
    "    # Keep only rows where month and day are in growing season\n",
    "    df = df[pd.DatetimeIndex(df[\"time\"]).strftime('%m-%d').isin(growseason)]\n",
    "    \n",
    "    # Remove duplicate hours, keep only the first measurement per hour\n",
    "    df = df[df[\"time\"].astype(str).str.slice(4, 10).duplicated(keep=\"first\") == False]\n",
    "    \n",
    "    # Get precipitation data (or NaN if AA1 is not in extra data section)\n",
    "    df[\"precip\"] = df[df['precip'].str.find(\"AA1\")!=-1]['precip'].str.split(\"AA1\").str.get(1).str.slice(5, 8)\n",
    "    \n",
    "    # Replace placeholder 9999 with NaN values\n",
    "    df[\"temp\"].replace({9999: np.nan}, inplace=True)\n",
    "    \n",
    "    # If there are no gaps bigger than crit_rows, then process data\n",
    "    if df.replace(method=\"ffill\", limit=crit_rows).iloc[crit_rows:].isnull().sum().sum() == 0:\n",
    "        \n",
    "        # Get the year and site name from the filename\n",
    "        year_site = name.split(\"-\")[-1]+\"_\"+name.split(\"-\")[-2]    \n",
    "        \n",
    "        # Rename the precipitation and temperature data by year and ID\n",
    "        temp = df.rename(columns={\"temp\":year_site}).drop(\"precip\", axis=1)\n",
    "        precip = df.rename(columns={\"precip\":year_site}).drop(\"temp\", axis=1)\n",
    "        \n",
    "        # Merge the data onto the master dataframes\n",
    "        df_temp_all = temp.merge(df_temp_all, how=\"outer\", on=\"time\", sort=False)\n",
    "        df_precip_all = precip.merge(df_precip_all, how=\"outer\", on=\"time\", sort=False)"
   ]
  },
  {
   "cell_type": "code",
   "execution_count": null,
   "metadata": {},
   "outputs": [],
   "source": []
  }
 ],
 "metadata": {
  "kernelspec": {
   "display_name": "Python 3",
   "language": "python",
   "name": "python3"
  },
  "language_info": {
   "codemirror_mode": {
    "name": "ipython",
    "version": 3
   },
   "file_extension": ".py",
   "mimetype": "text/x-python",
   "name": "python",
   "nbconvert_exporter": "python",
   "pygments_lexer": "ipython3",
   "version": "3.6.8"
  }
 },
 "nbformat": 4,
 "nbformat_minor": 2
}
